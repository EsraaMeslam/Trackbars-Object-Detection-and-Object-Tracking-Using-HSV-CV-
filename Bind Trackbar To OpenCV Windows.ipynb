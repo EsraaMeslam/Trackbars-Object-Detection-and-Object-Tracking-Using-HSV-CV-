{
 "cells": [
  {
   "cell_type": "code",
   "execution_count": 1,
   "id": "de6e43c7",
   "metadata": {},
   "outputs": [],
   "source": [
    "import cv2 as cv\n",
    "import numpy as np"
   ]
  },
  {
   "cell_type": "code",
   "execution_count": 3,
   "id": "1de30c99",
   "metadata": {},
   "outputs": [],
   "source": [
    "\n",
    "def nothing(x):\n",
    "    print(x)\n",
    "\n",
    "img = np.ones((500,600,3), np.uint8)  # create a zero image (black), shape (500,600), 3 channels\n",
    "cv.namedWindow('image')  # assign window window as 'image'\n",
    "\n",
    "# Create trackbars\n",
    "cv.createTrackbar('B', 'image', 0, 255, nothing)\n",
    "cv.createTrackbar('G', 'image', 0, 255, nothing)\n",
    "cv.createTrackbar('R', 'image', 0, 255, nothing)\n",
    "\n",
    "switch = '0 : OFF\\n 1 : ON'\n",
    "cv.createTrackbar(switch, 'image', 0, 1, nothing)\n",
    "\n",
    "while(1):\n",
    "    cv.imshow('image', img)    \n",
    "    k = cv.waitKey(1)\n",
    "    if k == 27:  # esc button    \n",
    "        break        \n",
    "        \n",
    "    # Check if the window exists before getting trackbar positions\n",
    "    if cv.getWindowProperty('image', cv.WND_PROP_VISIBLE) <= 0:\n",
    "        break\n",
    "    \n",
    "    b = cv.getTrackbarPos('B', 'image') #save val of blue color\n",
    "    g = cv.getTrackbarPos('G', 'image')#save val of green color\n",
    "    r = cv.getTrackbarPos('R', 'image')#save val of red color\n",
    "    s = cv.getTrackbarPos(switch, 'image')#save val of switch (0,1)\n",
    "        \n",
    "    if s == 0:  # off      \n",
    "        img[:] = 0  # always make image color black  \n",
    "    else:\n",
    "        img[:] = [b, g, r]  # make image RGB \n",
    "\n",
    "cv.destroyAllWindows()  # close all windows\n"
   ]
  },
  {
   "cell_type": "markdown",
   "id": "aa5f53f9",
   "metadata": {},
   "source": [
    "### Wish  u luck\n",
    "### Esraa Meslam"
   ]
  }
 ],
 "metadata": {
  "kernelspec": {
   "display_name": "Python 3 (ipykernel)",
   "language": "python",
   "name": "python3"
  },
  "language_info": {
   "codemirror_mode": {
    "name": "ipython",
    "version": 3
   },
   "file_extension": ".py",
   "mimetype": "text/x-python",
   "name": "python",
   "nbconvert_exporter": "python",
   "pygments_lexer": "ipython3",
   "version": "3.10.9"
  }
 },
 "nbformat": 4,
 "nbformat_minor": 5
}
