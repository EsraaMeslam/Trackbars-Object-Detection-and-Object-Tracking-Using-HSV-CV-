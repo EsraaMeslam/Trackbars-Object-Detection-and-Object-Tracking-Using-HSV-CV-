{
 "cells": [
  {
   "cell_type": "code",
   "execution_count": 1,
   "id": "2aaf0a4d",
   "metadata": {},
   "outputs": [],
   "source": [
    "import cv2\n",
    "import numpy as np"
   ]
  },
  {
   "cell_type": "code",
   "execution_count": 2,
   "id": "8a5b589f",
   "metadata": {},
   "outputs": [],
   "source": [
    "\n",
    "def nothing(x):\n",
    "    pass    \n",
    "\n",
    "cv2.namedWindow(\"Tracking\")# Create a window named \"Tracking\"\n",
    "\n",
    "# Create trackbars for lower and upper values of HSV\n",
    "cv2.createTrackbar(\"LH\", \"Tracking\", 0, 255, nothing)\n",
    "cv2.createTrackbar(\"LS\", \"Tracking\", 0, 255, nothing)\n",
    "cv2.createTrackbar(\"LV\", \"Tracking\", 0, 255, nothing)\n",
    "cv2.createTrackbar(\"UH\", \"Tracking\", 255, 255, nothing)\n",
    "cv2.createTrackbar(\"US\", \"Tracking\", 255, 255, nothing)\n",
    "cv2.createTrackbar(\"UV\", \"Tracking\", 255, 255, nothing)\n",
    "\n",
    "\n",
    "\n",
    "while True:\n",
    "\n",
    "    frame = cv2.imread('ball.jpg')   # Read the image    \n",
    "    hsv = cv2.cvtColor(frame, cv2.COLOR_BGR2HSV)   # Convert the image to HSV color space       \n",
    "\n",
    "# Get trackbar positions for lower HSV values\n",
    "    l_h = cv2.getTrackbarPos(\"LH\", \"Tracking\")       \n",
    "    l_s = cv2.getTrackbarPos(\"LS\", \"Tracking\")       \n",
    "    l_v = cv2.getTrackbarPos(\"LV\", \"Tracking\")       \n",
    "\n",
    "\n",
    " # Get trackbar positions for upper HSV values\n",
    "    u_h = cv2.getTrackbarPos(\"UH\", \"Tracking\")       \n",
    "    u_s = cv2.getTrackbarPos(\"US\", \"Tracking\")       \n",
    "    u_v = cv2.getTrackbarPos(\"UV\", \"Tracking\")       \n",
    "\n",
    "\n",
    "# Create arrays for lower and upper HSV values\n",
    "    l_b = np.array([l_h, l_s, l_v])       \n",
    "    u_b = np.array([u_h, u_s, u_v])       \n",
    "\n",
    "\n",
    "\n",
    "    mask = cv2.inRange(hsv, l_b, u_b)   #(Mask)threshold the HSV (make all image black except ths range)    \n",
    "\n",
    "    res = cv2.bitwise_and(frame, frame, mask=mask)        \n",
    "\n",
    "\n",
    "    cv2.imshow(\"frame\", frame)        \n",
    "    cv2.imshow(\"mask\", mask)        \n",
    "    cv2.imshow(\"res\", res)        \n",
    "\n",
    "\n",
    "    key = cv2.waitKey(1)         \n",
    "    if key == 27:        \n",
    "        break               \n",
    "\n",
    "cv2.destroyAllWindows() #colse window"
   ]
  },
  {
   "cell_type": "code",
   "execution_count": null,
   "id": "e0eceb18",
   "metadata": {},
   "outputs": [],
   "source": [
    "## Wiish u luck\n",
    "### Esraa "
   ]
  }
 ],
 "metadata": {
  "kernelspec": {
   "display_name": "Python 3 (ipykernel)",
   "language": "python",
   "name": "python3"
  },
  "language_info": {
   "codemirror_mode": {
    "name": "ipython",
    "version": 3
   },
   "file_extension": ".py",
   "mimetype": "text/x-python",
   "name": "python",
   "nbconvert_exporter": "python",
   "pygments_lexer": "ipython3",
   "version": "3.10.9"
  }
 },
 "nbformat": 4,
 "nbformat_minor": 5
}
